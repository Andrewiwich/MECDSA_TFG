{
 "cells": [
  {
   "cell_type": "code",
   "execution_count": 1,
   "metadata": {},
   "outputs": [
    {
     "data": {
      "text/plain": [
       "15"
      ]
     },
     "execution_count": 1,
     "metadata": {},
     "output_type": "execute_result"
    }
   ],
   "source": [
    "p=23\n",
    "prev_proof_state = proof.arithmetic()\n",
    "proof.arithmetic(False)\n",
    "F = GF(p)\n",
    "E=EllipticCurve(GF(p),[13,-7])\n",
    "G=E(11,15)\n",
    "G.order()"
   ]
  },
  {
   "cell_type": "code",
   "execution_count": 5,
   "metadata": {},
   "outputs": [
    {
     "data": {
      "text/plain": [
       "115792089210356248762697446949407573529996955224135760342422259061068512044369"
      ]
     },
     "execution_count": 5,
     "metadata": {},
     "output_type": "execute_result"
    }
   ],
   "source": [
    "p=2^256-2^224+2^192+2^96-1\n",
    "prev_proof_state = proof.arithmetic()\n",
    "proof.arithmetic(False)\n",
    "F = GF(p)\n",
    "E=EllipticCurve(GF(p),[-3,41058363725152142129326129780047268409114441015993725554835256314039467401291])\n",
    "G=E(48439561293906451759052585252797914202762949526041747995844080717082404635286,36134250956749795798585127919587881956611106672985015071877198253568414405109)\n",
    "G.order()"
   ]
  },
  {
   "cell_type": "code",
   "execution_count": 21,
   "metadata": {},
   "outputs": [],
   "source": [
    "with open('file.txt', 'rUw') as f:\n",
    "    L = [RDF(l.strip()) for l in f]"
   ]
  },
  {
   "cell_type": "code",
   "execution_count": 22,
   "metadata": {},
   "outputs": [
    {
     "name": "stdout",
     "output_type": "stream",
     "text": [
      "[88888888.0, 78945.0, 45877.0]\n"
     ]
    }
   ],
   "source": [
    "print(L)"
   ]
  },
  {
   "cell_type": "code",
   "execution_count": 43,
   "metadata": {},
   "outputs": [],
   "source": [
    "with open('fileS.txt', 'r') as f:\n",
    "    L = [(l.strip()) for l in f]"
   ]
  },
  {
   "cell_type": "code",
   "execution_count": 44,
   "metadata": {},
   "outputs": [
    {
     "name": "stdout",
     "output_type": "stream",
     "text": [
      "['Esto es texto\\t\\tdejamos espacio', 'Saltamos la linea....']\n"
     ]
    }
   ],
   "source": [
    "print(L)"
   ]
  },
  {
   "cell_type": "code",
   "execution_count": 47,
   "metadata": {},
   "outputs": [],
   "source": [
    "with open('fileS.txt', 'r') as f:\n",
    "    L = (l.strip())"
   ]
  },
  {
   "cell_type": "code",
   "execution_count": 48,
   "metadata": {},
   "outputs": [
    {
     "name": "stdout",
     "output_type": "stream",
     "text": [
      "Saltamos la linea....\n"
     ]
    }
   ],
   "source": [
    "print(L)"
   ]
  },
  {
   "cell_type": "code",
   "execution_count": 63,
   "metadata": {},
   "outputs": [
    {
     "name": "stdout",
     "output_type": "stream",
     "text": [
      "Esto es texto\t\tdejamos espacio\r\n",
      "Saltamos la linea....\n"
     ]
    }
   ],
   "source": [
    "with open('fileS.txt', 'r') as f:\n",
    "    L = f.read()\n",
    "print(L)"
   ]
  },
  {
   "cell_type": "code",
   "execution_count": 78,
   "metadata": {},
   "outputs": [],
   "source": [
    "o = open('fileW.txt','w')\n",
    "o.write(\"Hola que tal\")"
   ]
  },
  {
   "cell_type": "code",
   "execution_count": 81,
   "metadata": {},
   "outputs": [],
   "source": [
    "p=23\n",
    "prev_proof_state = proof.arithmetic()\n",
    "proof.arithmetic(False)\n",
    "F = GF(p)\n",
    "E=EllipticCurve(GF(p),[13,-7])\n",
    "P = E.points()"
   ]
  },
  {
   "cell_type": "code",
   "execution_count": 82,
   "metadata": {},
   "outputs": [
    {
     "data": {
      "text/plain": [
       "[(0 : 1 : 0), (0 : 4 : 1), (0 : 19 : 1), (2 : 2 : 1), (2 : 21 : 1), (3 : 6 : 1), (3 : 17 : 1), (7 : 6 : 1), (7 : 17 : 1), (11 : 8 : 1), (11 : 15 : 1), (13 : 6 : 1), (13 : 17 : 1), (22 : 5 : 1), (22 : 18 : 1)]"
      ]
     },
     "execution_count": 82,
     "metadata": {},
     "output_type": "execute_result"
    }
   ],
   "source": [
    "P"
   ]
  },
  {
   "cell_type": "code",
   "execution_count": 83,
   "metadata": {},
   "outputs": [
    {
     "data": {
      "text/plain": [
       "(2 : 2 : 1)"
      ]
     },
     "execution_count": 83,
     "metadata": {},
     "output_type": "execute_result"
    }
   ],
   "source": [
    "P[10]"
   ]
  },
  {
   "cell_type": "code",
   "execution_count": 91,
   "metadata": {},
   "outputs": [
    {
     "data": {
      "text/plain": [
       "15"
      ]
     },
     "execution_count": 91,
     "metadata": {},
     "output_type": "execute_result"
    }
   ],
   "source": [
    "''' Para poder obtener el orden de la curva usar E.cardinality() en vez de G.order() pq esto último nos da el orden del pto.'''\n",
    "p=23\n",
    "prev_proof_state = proof.arithmetic()\n",
    "proof.arithmetic(False)\n",
    "F = GF(p)\n",
    "E=EllipticCurve(GF(p),[13,-7])\n",
    "G=E(P[10])\n",
    "G.order()"
   ]
  },
  {
   "cell_type": "code",
   "execution_count": 90,
   "metadata": {},
   "outputs": [
    {
     "data": {
      "text/plain": [
       "15"
      ]
     },
     "execution_count": 90,
     "metadata": {},
     "output_type": "execute_result"
    }
   ],
   "source": [
    "E.cardinality()"
   ]
  },
  {
   "cell_type": "code",
   "execution_count": null,
   "metadata": {},
   "outputs": [],
   "source": []
  }
 ],
 "metadata": {
  "kernelspec": {
   "display_name": "SageMath 8.6",
   "language": "",
   "name": "sagemath"
  },
  "language_info": {
   "codemirror_mode": {
    "name": "ipython",
    "version": 2
   },
   "file_extension": ".py",
   "mimetype": "text/x-python",
   "name": "python",
   "nbconvert_exporter": "python",
   "pygments_lexer": "ipython2",
   "version": "2.7.15"
  }
 },
 "nbformat": 4,
 "nbformat_minor": 2
}
